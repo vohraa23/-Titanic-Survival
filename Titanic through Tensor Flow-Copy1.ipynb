{
 "cells": [
  {
   "cell_type": "markdown",
   "id": "02eaa830",
   "metadata": {},
   "source": [
    "# Titanic through Tensor Flow"
   ]
  },
  {
   "cell_type": "code",
   "execution_count": 5,
   "id": "0ea663a6",
   "metadata": {},
   "outputs": [
    {
     "ename": "SyntaxError",
     "evalue": "invalid syntax (3517302792.py, line 21)",
     "output_type": "error",
     "traceback": [
      "\u001b[0;36m  File \u001b[0;32m\"/var/folders/fm/sq0dp6ns4qv9vf8c6w3sw1nm0000gn/T/ipykernel_1133/3517302792.py\"\u001b[0;36m, line \u001b[0;32m21\u001b[0m\n\u001b[0;31m    pip Install tensorflow\u001b[0m\n\u001b[0m        ^\u001b[0m\n\u001b[0;31mSyntaxError\u001b[0m\u001b[0;31m:\u001b[0m invalid syntax\n"
     ]
    }
   ],
   "source": [
    "import numpy as np\n",
    "import pandas as pd\n",
    "import seaborn as sns\n",
    "import matplotlib.pyplot as plt\n",
    "from matplotlib.pyplot import rcParams\n",
    "import tensorflow as tf\n",
    "from sklearn.preprocessing import StandardScaler\n",
    "from tensorflow.keras.utils import to_categorical\n",
    "import os\n",
    "from sklearn.model_selection import train_test_split\n",
    "from sklearn.model_selection import GridSearchCV, cross_val_score\n",
    "from sklearn.ensemble import RandomForestClassifier\n",
    "from sklearn.metrics import accuracy_score, f1_score, precision_score, recall_score\n",
    "from tensorflow.keras.models import Sequential\n",
    "from tensorflow.keras.layers import Input, Dense\n",
    "from keras.wrappers.scikit_learn import KerasClassifier\n",
    "from keras.layers import Dense, Activation, Dropout\n",
    "from sklearn.preprocessing import LabelEncoder\n",
    "\n",
    "from numpy.random import seed\n",
    "pip Install tensorflow"
   ]
  },
  {
   "cell_type": "code",
   "execution_count": 122,
   "id": "d94d92d1",
   "metadata": {},
   "outputs": [],
   "source": [
    "df = pd.read_csv('titanic.csv')"
   ]
  },
  {
   "cell_type": "code",
   "execution_count": 123,
   "id": "51a98960",
   "metadata": {},
   "outputs": [
    {
     "data": {
      "text/html": [
       "<div>\n",
       "<style scoped>\n",
       "    .dataframe tbody tr th:only-of-type {\n",
       "        vertical-align: middle;\n",
       "    }\n",
       "\n",
       "    .dataframe tbody tr th {\n",
       "        vertical-align: top;\n",
       "    }\n",
       "\n",
       "    .dataframe thead th {\n",
       "        text-align: right;\n",
       "    }\n",
       "</style>\n",
       "<table border=\"1\" class=\"dataframe\">\n",
       "  <thead>\n",
       "    <tr style=\"text-align: right;\">\n",
       "      <th></th>\n",
       "      <th>survived</th>\n",
       "      <th>pclass</th>\n",
       "      <th>sex</th>\n",
       "      <th>age</th>\n",
       "      <th>sibsp</th>\n",
       "      <th>parch</th>\n",
       "      <th>fare</th>\n",
       "      <th>embarked</th>\n",
       "      <th>class</th>\n",
       "      <th>who</th>\n",
       "      <th>adult_male</th>\n",
       "      <th>deck</th>\n",
       "      <th>embark_town</th>\n",
       "      <th>alive</th>\n",
       "      <th>alone</th>\n",
       "    </tr>\n",
       "  </thead>\n",
       "  <tbody>\n",
       "    <tr>\n",
       "      <th>0</th>\n",
       "      <td>0</td>\n",
       "      <td>3</td>\n",
       "      <td>male</td>\n",
       "      <td>22.0</td>\n",
       "      <td>1</td>\n",
       "      <td>0</td>\n",
       "      <td>7.2500</td>\n",
       "      <td>S</td>\n",
       "      <td>Third</td>\n",
       "      <td>man</td>\n",
       "      <td>True</td>\n",
       "      <td>NaN</td>\n",
       "      <td>Southampton</td>\n",
       "      <td>no</td>\n",
       "      <td>False</td>\n",
       "    </tr>\n",
       "    <tr>\n",
       "      <th>1</th>\n",
       "      <td>1</td>\n",
       "      <td>1</td>\n",
       "      <td>female</td>\n",
       "      <td>38.0</td>\n",
       "      <td>1</td>\n",
       "      <td>0</td>\n",
       "      <td>71.2833</td>\n",
       "      <td>C</td>\n",
       "      <td>First</td>\n",
       "      <td>woman</td>\n",
       "      <td>False</td>\n",
       "      <td>C</td>\n",
       "      <td>Cherbourg</td>\n",
       "      <td>yes</td>\n",
       "      <td>False</td>\n",
       "    </tr>\n",
       "    <tr>\n",
       "      <th>2</th>\n",
       "      <td>1</td>\n",
       "      <td>3</td>\n",
       "      <td>female</td>\n",
       "      <td>26.0</td>\n",
       "      <td>0</td>\n",
       "      <td>0</td>\n",
       "      <td>7.9250</td>\n",
       "      <td>S</td>\n",
       "      <td>Third</td>\n",
       "      <td>woman</td>\n",
       "      <td>False</td>\n",
       "      <td>NaN</td>\n",
       "      <td>Southampton</td>\n",
       "      <td>yes</td>\n",
       "      <td>True</td>\n",
       "    </tr>\n",
       "    <tr>\n",
       "      <th>3</th>\n",
       "      <td>1</td>\n",
       "      <td>1</td>\n",
       "      <td>female</td>\n",
       "      <td>35.0</td>\n",
       "      <td>1</td>\n",
       "      <td>0</td>\n",
       "      <td>53.1000</td>\n",
       "      <td>S</td>\n",
       "      <td>First</td>\n",
       "      <td>woman</td>\n",
       "      <td>False</td>\n",
       "      <td>C</td>\n",
       "      <td>Southampton</td>\n",
       "      <td>yes</td>\n",
       "      <td>False</td>\n",
       "    </tr>\n",
       "    <tr>\n",
       "      <th>4</th>\n",
       "      <td>0</td>\n",
       "      <td>3</td>\n",
       "      <td>male</td>\n",
       "      <td>35.0</td>\n",
       "      <td>0</td>\n",
       "      <td>0</td>\n",
       "      <td>8.0500</td>\n",
       "      <td>S</td>\n",
       "      <td>Third</td>\n",
       "      <td>man</td>\n",
       "      <td>True</td>\n",
       "      <td>NaN</td>\n",
       "      <td>Southampton</td>\n",
       "      <td>no</td>\n",
       "      <td>True</td>\n",
       "    </tr>\n",
       "  </tbody>\n",
       "</table>\n",
       "</div>"
      ],
      "text/plain": [
       "   survived  pclass     sex   age  sibsp  parch     fare embarked  class  \\\n",
       "0         0       3    male  22.0      1      0   7.2500        S  Third   \n",
       "1         1       1  female  38.0      1      0  71.2833        C  First   \n",
       "2         1       3  female  26.0      0      0   7.9250        S  Third   \n",
       "3         1       1  female  35.0      1      0  53.1000        S  First   \n",
       "4         0       3    male  35.0      0      0   8.0500        S  Third   \n",
       "\n",
       "     who  adult_male deck  embark_town alive  alone  \n",
       "0    man        True  NaN  Southampton    no  False  \n",
       "1  woman       False    C    Cherbourg   yes  False  \n",
       "2  woman       False  NaN  Southampton   yes   True  \n",
       "3  woman       False    C  Southampton   yes  False  \n",
       "4    man        True  NaN  Southampton    no   True  "
      ]
     },
     "execution_count": 123,
     "metadata": {},
     "output_type": "execute_result"
    }
   ],
   "source": [
    "df.head()"
   ]
  },
  {
   "cell_type": "code",
   "execution_count": 124,
   "id": "0ae2f1cc",
   "metadata": {},
   "outputs": [
    {
     "data": {
      "text/html": [
       "<div>\n",
       "<style scoped>\n",
       "    .dataframe tbody tr th:only-of-type {\n",
       "        vertical-align: middle;\n",
       "    }\n",
       "\n",
       "    .dataframe tbody tr th {\n",
       "        vertical-align: top;\n",
       "    }\n",
       "\n",
       "    .dataframe thead th {\n",
       "        text-align: right;\n",
       "    }\n",
       "</style>\n",
       "<table border=\"1\" class=\"dataframe\">\n",
       "  <thead>\n",
       "    <tr style=\"text-align: right;\">\n",
       "      <th></th>\n",
       "      <th>survived</th>\n",
       "      <th>pclass</th>\n",
       "      <th>age</th>\n",
       "      <th>sibsp</th>\n",
       "      <th>parch</th>\n",
       "      <th>fare</th>\n",
       "    </tr>\n",
       "  </thead>\n",
       "  <tbody>\n",
       "    <tr>\n",
       "      <th>count</th>\n",
       "      <td>891.000000</td>\n",
       "      <td>891.000000</td>\n",
       "      <td>714.000000</td>\n",
       "      <td>891.000000</td>\n",
       "      <td>891.000000</td>\n",
       "      <td>891.000000</td>\n",
       "    </tr>\n",
       "    <tr>\n",
       "      <th>mean</th>\n",
       "      <td>0.383838</td>\n",
       "      <td>2.308642</td>\n",
       "      <td>29.699118</td>\n",
       "      <td>0.523008</td>\n",
       "      <td>0.381594</td>\n",
       "      <td>32.204208</td>\n",
       "    </tr>\n",
       "    <tr>\n",
       "      <th>std</th>\n",
       "      <td>0.486592</td>\n",
       "      <td>0.836071</td>\n",
       "      <td>14.526497</td>\n",
       "      <td>1.102743</td>\n",
       "      <td>0.806057</td>\n",
       "      <td>49.693429</td>\n",
       "    </tr>\n",
       "    <tr>\n",
       "      <th>min</th>\n",
       "      <td>0.000000</td>\n",
       "      <td>1.000000</td>\n",
       "      <td>0.420000</td>\n",
       "      <td>0.000000</td>\n",
       "      <td>0.000000</td>\n",
       "      <td>0.000000</td>\n",
       "    </tr>\n",
       "    <tr>\n",
       "      <th>25%</th>\n",
       "      <td>0.000000</td>\n",
       "      <td>2.000000</td>\n",
       "      <td>20.125000</td>\n",
       "      <td>0.000000</td>\n",
       "      <td>0.000000</td>\n",
       "      <td>7.910400</td>\n",
       "    </tr>\n",
       "    <tr>\n",
       "      <th>50%</th>\n",
       "      <td>0.000000</td>\n",
       "      <td>3.000000</td>\n",
       "      <td>28.000000</td>\n",
       "      <td>0.000000</td>\n",
       "      <td>0.000000</td>\n",
       "      <td>14.454200</td>\n",
       "    </tr>\n",
       "    <tr>\n",
       "      <th>75%</th>\n",
       "      <td>1.000000</td>\n",
       "      <td>3.000000</td>\n",
       "      <td>38.000000</td>\n",
       "      <td>1.000000</td>\n",
       "      <td>0.000000</td>\n",
       "      <td>31.000000</td>\n",
       "    </tr>\n",
       "    <tr>\n",
       "      <th>max</th>\n",
       "      <td>1.000000</td>\n",
       "      <td>3.000000</td>\n",
       "      <td>80.000000</td>\n",
       "      <td>8.000000</td>\n",
       "      <td>6.000000</td>\n",
       "      <td>512.329200</td>\n",
       "    </tr>\n",
       "  </tbody>\n",
       "</table>\n",
       "</div>"
      ],
      "text/plain": [
       "         survived      pclass         age       sibsp       parch        fare\n",
       "count  891.000000  891.000000  714.000000  891.000000  891.000000  891.000000\n",
       "mean     0.383838    2.308642   29.699118    0.523008    0.381594   32.204208\n",
       "std      0.486592    0.836071   14.526497    1.102743    0.806057   49.693429\n",
       "min      0.000000    1.000000    0.420000    0.000000    0.000000    0.000000\n",
       "25%      0.000000    2.000000   20.125000    0.000000    0.000000    7.910400\n",
       "50%      0.000000    3.000000   28.000000    0.000000    0.000000   14.454200\n",
       "75%      1.000000    3.000000   38.000000    1.000000    0.000000   31.000000\n",
       "max      1.000000    3.000000   80.000000    8.000000    6.000000  512.329200"
      ]
     },
     "execution_count": 124,
     "metadata": {},
     "output_type": "execute_result"
    }
   ],
   "source": [
    "df.describe()"
   ]
  },
  {
   "cell_type": "code",
   "execution_count": 125,
   "id": "5ec5b57c",
   "metadata": {},
   "outputs": [
    {
     "name": "stdout",
     "output_type": "stream",
     "text": [
      "<class 'pandas.core.frame.DataFrame'>\n",
      "RangeIndex: 891 entries, 0 to 890\n",
      "Data columns (total 15 columns):\n",
      " #   Column       Non-Null Count  Dtype  \n",
      "---  ------       --------------  -----  \n",
      " 0   survived     891 non-null    int64  \n",
      " 1   pclass       891 non-null    int64  \n",
      " 2   sex          891 non-null    object \n",
      " 3   age          714 non-null    float64\n",
      " 4   sibsp        891 non-null    int64  \n",
      " 5   parch        891 non-null    int64  \n",
      " 6   fare         891 non-null    float64\n",
      " 7   embarked     889 non-null    object \n",
      " 8   class        891 non-null    object \n",
      " 9   who          891 non-null    object \n",
      " 10  adult_male   891 non-null    bool   \n",
      " 11  deck         203 non-null    object \n",
      " 12  embark_town  889 non-null    object \n",
      " 13  alive        891 non-null    object \n",
      " 14  alone        891 non-null    bool   \n",
      "dtypes: bool(2), float64(2), int64(4), object(7)\n",
      "memory usage: 92.4+ KB\n"
     ]
    }
   ],
   "source": [
    "df.info()"
   ]
  },
  {
   "cell_type": "code",
   "execution_count": 126,
   "id": "56d1a427",
   "metadata": {},
   "outputs": [
    {
     "data": {
      "text/plain": [
       "0    549\n",
       "1    342\n",
       "Name: survived, dtype: int64"
      ]
     },
     "execution_count": 126,
     "metadata": {},
     "output_type": "execute_result"
    }
   ],
   "source": [
    "df['survived'].value_counts()"
   ]
  },
  {
   "cell_type": "code",
   "execution_count": 127,
   "id": "e710dc5e",
   "metadata": {},
   "outputs": [
    {
     "data": {
      "text/plain": [
       "survived         0\n",
       "pclass           0\n",
       "sex              0\n",
       "age            177\n",
       "sibsp            0\n",
       "parch            0\n",
       "fare             0\n",
       "embarked         2\n",
       "class            0\n",
       "who              0\n",
       "adult_male       0\n",
       "deck           688\n",
       "embark_town      2\n",
       "alive            0\n",
       "alone            0\n",
       "dtype: int64"
      ]
     },
     "execution_count": 127,
     "metadata": {},
     "output_type": "execute_result"
    }
   ],
   "source": [
    "df.isnull().sum()"
   ]
  },
  {
   "cell_type": "code",
   "execution_count": 128,
   "id": "ec3957fa",
   "metadata": {},
   "outputs": [],
   "source": [
    "#df['embarked'].fillna(method='backfill', inplace=True)"
   ]
  },
  {
   "cell_type": "code",
   "execution_count": 129,
   "id": "e073dc57",
   "metadata": {},
   "outputs": [
    {
     "data": {
      "text/plain": [
       "29.69911764705882"
      ]
     },
     "execution_count": 129,
     "metadata": {},
     "output_type": "execute_result"
    }
   ],
   "source": [
    "age_mean=df.age.mean()\n",
    "age_mean"
   ]
  },
  {
   "cell_type": "code",
   "execution_count": 130,
   "id": "301f8790",
   "metadata": {},
   "outputs": [
    {
     "data": {
      "text/plain": [
       "30.0"
      ]
     },
     "execution_count": 130,
     "metadata": {},
     "output_type": "execute_result"
    }
   ],
   "source": [
    "mean_age = round(age_mean,0)\n",
    "mean_age"
   ]
  },
  {
   "cell_type": "code",
   "execution_count": 131,
   "id": "22c6e599",
   "metadata": {},
   "outputs": [],
   "source": [
    "df.age.fillna(mean_age,inplace=True)"
   ]
  },
  {
   "cell_type": "code",
   "execution_count": 132,
   "id": "0ad5d8fb",
   "metadata": {},
   "outputs": [
    {
     "name": "stdout",
     "output_type": "stream",
     "text": [
      "<class 'pandas.core.frame.DataFrame'>\n",
      "RangeIndex: 891 entries, 0 to 890\n",
      "Data columns (total 15 columns):\n",
      " #   Column       Non-Null Count  Dtype  \n",
      "---  ------       --------------  -----  \n",
      " 0   survived     891 non-null    int64  \n",
      " 1   pclass       891 non-null    int64  \n",
      " 2   sex          891 non-null    object \n",
      " 3   age          891 non-null    float64\n",
      " 4   sibsp        891 non-null    int64  \n",
      " 5   parch        891 non-null    int64  \n",
      " 6   fare         891 non-null    float64\n",
      " 7   embarked     889 non-null    object \n",
      " 8   class        891 non-null    object \n",
      " 9   who          891 non-null    object \n",
      " 10  adult_male   891 non-null    bool   \n",
      " 11  deck         203 non-null    object \n",
      " 12  embark_town  889 non-null    object \n",
      " 13  alive        891 non-null    object \n",
      " 14  alone        891 non-null    bool   \n",
      "dtypes: bool(2), float64(2), int64(4), object(7)\n",
      "memory usage: 92.4+ KB\n"
     ]
    }
   ],
   "source": [
    "df.info()"
   ]
  },
  {
   "cell_type": "code",
   "execution_count": 133,
   "id": "a5cc343f",
   "metadata": {},
   "outputs": [],
   "source": [
    "#df.drop([ 'deck', 'embark_town', 'alive', 'who', 'class',  'adult_male' ], axis=1, inplace=True)"
   ]
  },
  {
   "cell_type": "code",
   "execution_count": 134,
   "id": "0027f611",
   "metadata": {},
   "outputs": [],
   "source": [
    "l1=LabelEncoder()\n",
    "df[\"pclass\"]=l1.fit_transform(df[\"pclass\"]) "
   ]
  },
  {
   "cell_type": "code",
   "execution_count": 135,
   "id": "7a5b654f",
   "metadata": {},
   "outputs": [],
   "source": [
    "l2=LabelEncoder()\n",
    "df[\"sex\"]=l2.fit_transform(df[\"sex\"]) "
   ]
  },
  {
   "cell_type": "code",
   "execution_count": 136,
   "id": "41447ba4",
   "metadata": {},
   "outputs": [],
   "source": [
    "l3=LabelEncoder()\n",
    "df[\"age\"]=l3.fit_transform(df[\"age\"]) "
   ]
  },
  {
   "cell_type": "code",
   "execution_count": 137,
   "id": "21c48e06",
   "metadata": {},
   "outputs": [],
   "source": [
    "l4=LabelEncoder()\n",
    "df[\"alone\"]=l4.fit_transform(df[\"alone\"]) "
   ]
  },
  {
   "cell_type": "code",
   "execution_count": 154,
   "id": "0289d0b8",
   "metadata": {},
   "outputs": [],
   "source": [
    "l5=LabelEncoder()\n",
    "df[\"embarked\"]=l5.fit_transform(df[\"embarked\"]) "
   ]
  },
  {
   "cell_type": "code",
   "execution_count": 155,
   "id": "9bd6d1d6",
   "metadata": {},
   "outputs": [],
   "source": [
    "x=df.loc[:,['pclass','sibsp', 'parch','fare','embarked','sex','age',  'alone']]\n",
    "y=df.loc[:,['survived']]"
   ]
  },
  {
   "cell_type": "code",
   "execution_count": null,
   "id": "81a85aad",
   "metadata": {},
   "outputs": [],
   "source": []
  },
  {
   "cell_type": "code",
   "execution_count": 156,
   "id": "b794ce15",
   "metadata": {},
   "outputs": [],
   "source": [
    "x_train, x_test, y_train, y_test=train_test_split(x,y,train_size=0.7, random_state=1)"
   ]
  },
  {
   "cell_type": "code",
   "execution_count": 157,
   "id": "b02c6336",
   "metadata": {},
   "outputs": [
    {
     "name": "stdout",
     "output_type": "stream",
     "text": [
      "(623, 8)\n",
      "(623, 1)\n",
      "(268, 8)\n",
      "(268, 1)\n"
     ]
    }
   ],
   "source": [
    "print( x_train.shape )\n",
    "print( y_train.shape )\n",
    "print( x_test.shape  )\n",
    "print( y_test.shape  )"
   ]
  },
  {
   "cell_type": "code",
   "execution_count": 158,
   "id": "aa703c6f",
   "metadata": {},
   "outputs": [
    {
     "name": "stdout",
     "output_type": "stream",
     "text": [
      "<class 'pandas.core.frame.DataFrame'>\n",
      "Int64Index: 268 entries, 862 to 92\n",
      "Data columns (total 8 columns):\n",
      " #   Column    Non-Null Count  Dtype  \n",
      "---  ------    --------------  -----  \n",
      " 0   pclass    268 non-null    int64  \n",
      " 1   sibsp     268 non-null    int64  \n",
      " 2   parch     268 non-null    int64  \n",
      " 3   fare      268 non-null    float64\n",
      " 4   embarked  268 non-null    int64  \n",
      " 5   sex       268 non-null    int32  \n",
      " 6   age       268 non-null    int64  \n",
      " 7   alone     268 non-null    int64  \n",
      "dtypes: float64(1), int32(1), int64(6)\n",
      "memory usage: 17.8 KB\n"
     ]
    }
   ],
   "source": [
    "x_test.info()"
   ]
  },
  {
   "cell_type": "code",
   "execution_count": 159,
   "id": "15bdb9eb",
   "metadata": {},
   "outputs": [
    {
     "name": "stdout",
     "output_type": "stream",
     "text": [
      "<class 'pandas.core.frame.DataFrame'>\n",
      "Int64Index: 268 entries, 862 to 92\n",
      "Data columns (total 1 columns):\n",
      " #   Column    Non-Null Count  Dtype\n",
      "---  ------    --------------  -----\n",
      " 0   survived  268 non-null    int64\n",
      "dtypes: int64(1)\n",
      "memory usage: 4.2 KB\n"
     ]
    }
   ],
   "source": [
    "y_test.info()"
   ]
  },
  {
   "cell_type": "code",
   "execution_count": 161,
   "id": "11545910",
   "metadata": {},
   "outputs": [],
   "source": [
    "model = Sequential()\n",
    "model.add(Input(8)) # No Computation\n",
    "model.add(Dense(1, activation=\"relu\"))\n",
    "model.add(Dense(1, activation=\"sigmoid\")) # Sigmoid because of binary classfn"
   ]
  },
  {
   "cell_type": "code",
   "execution_count": 162,
   "id": "bfd672a6",
   "metadata": {},
   "outputs": [],
   "source": [
    "model.compile(optimizer=\"SGD\", loss=\"binary_crossentropy\", metrics=\"accuracy\")"
   ]
  },
  {
   "cell_type": "code",
   "execution_count": 163,
   "id": "aac09b9c",
   "metadata": {},
   "outputs": [
    {
     "name": "stdout",
     "output_type": "stream",
     "text": [
      "Epoch 1/40\n",
      "20/20 [==============================] - 1s 19ms/step - loss: 0.6258 - accuracy: 0.5987 - val_loss: 0.6506 - val_accuracy: 0.5709\n",
      "Epoch 2/40\n",
      "20/20 [==============================] - 0s 3ms/step - loss: 0.5978 - accuracy: 0.6661 - val_loss: 0.6445 - val_accuracy: 0.6455\n",
      "Epoch 3/40\n",
      "20/20 [==============================] - 0s 4ms/step - loss: 0.5980 - accuracy: 0.7143 - val_loss: 0.6585 - val_accuracy: 0.6455\n",
      "Epoch 4/40\n",
      "20/20 [==============================] - 0s 5ms/step - loss: 0.5967 - accuracy: 0.7111 - val_loss: 0.6580 - val_accuracy: 0.6493\n",
      "Epoch 5/40\n",
      "20/20 [==============================] - 0s 4ms/step - loss: 0.5954 - accuracy: 0.7127 - val_loss: 0.6581 - val_accuracy: 0.6493\n",
      "Epoch 6/40\n",
      "20/20 [==============================] - 0s 5ms/step - loss: 0.5940 - accuracy: 0.7111 - val_loss: 0.6427 - val_accuracy: 0.6493\n",
      "Epoch 7/40\n",
      "20/20 [==============================] - 0s 5ms/step - loss: 0.5978 - accuracy: 0.7079 - val_loss: 0.6463 - val_accuracy: 0.6493\n",
      "Epoch 8/40\n",
      "20/20 [==============================] - 0s 3ms/step - loss: 0.5938 - accuracy: 0.7063 - val_loss: 0.6524 - val_accuracy: 0.6493\n",
      "Epoch 9/40\n",
      "20/20 [==============================] - 0s 4ms/step - loss: 0.5938 - accuracy: 0.7063 - val_loss: 0.6545 - val_accuracy: 0.6493\n",
      "Epoch 10/40\n",
      "20/20 [==============================] - 0s 4ms/step - loss: 0.5936 - accuracy: 0.7047 - val_loss: 0.6544 - val_accuracy: 0.6455\n",
      "Epoch 11/40\n",
      "20/20 [==============================] - 0s 5ms/step - loss: 0.5935 - accuracy: 0.7014 - val_loss: 0.6498 - val_accuracy: 0.6455\n",
      "Epoch 12/40\n",
      "20/20 [==============================] - 0s 5ms/step - loss: 0.5923 - accuracy: 0.7047 - val_loss: 0.6443 - val_accuracy: 0.6455\n",
      "Epoch 13/40\n",
      "20/20 [==============================] - 0s 4ms/step - loss: 0.5933 - accuracy: 0.7014 - val_loss: 0.6503 - val_accuracy: 0.6455\n",
      "Epoch 14/40\n",
      "20/20 [==============================] - 0s 4ms/step - loss: 0.5922 - accuracy: 0.7014 - val_loss: 0.6428 - val_accuracy: 0.6381\n",
      "Epoch 15/40\n",
      "20/20 [==============================] - 0s 6ms/step - loss: 0.5940 - accuracy: 0.7030 - val_loss: 0.6448 - val_accuracy: 0.6381\n",
      "Epoch 16/40\n",
      "20/20 [==============================] - 0s 5ms/step - loss: 0.5918 - accuracy: 0.7030 - val_loss: 0.6527 - val_accuracy: 0.6381\n",
      "Epoch 17/40\n",
      "20/20 [==============================] - 0s 4ms/step - loss: 0.5921 - accuracy: 0.7014 - val_loss: 0.6420 - val_accuracy: 0.6381\n",
      "Epoch 18/40\n",
      "20/20 [==============================] - 0s 3ms/step - loss: 0.5895 - accuracy: 0.7030 - val_loss: 0.6514 - val_accuracy: 0.6381\n",
      "Epoch 19/40\n",
      "20/20 [==============================] - 0s 3ms/step - loss: 0.5912 - accuracy: 0.7047 - val_loss: 0.6422 - val_accuracy: 0.6343\n",
      "Epoch 20/40\n",
      "20/20 [==============================] - 0s 5ms/step - loss: 0.5914 - accuracy: 0.6982 - val_loss: 0.6449 - val_accuracy: 0.6381\n",
      "Epoch 21/40\n",
      "20/20 [==============================] - 0s 5ms/step - loss: 0.5906 - accuracy: 0.6998 - val_loss: 0.6484 - val_accuracy: 0.6381\n",
      "Epoch 22/40\n",
      "20/20 [==============================] - 0s 6ms/step - loss: 0.5908 - accuracy: 0.7030 - val_loss: 0.6465 - val_accuracy: 0.6381\n",
      "Epoch 23/40\n",
      "20/20 [==============================] - 0s 4ms/step - loss: 0.5912 - accuracy: 0.7030 - val_loss: 0.6457 - val_accuracy: 0.6343\n",
      "Epoch 24/40\n",
      "20/20 [==============================] - 0s 4ms/step - loss: 0.5908 - accuracy: 0.6998 - val_loss: 0.6423 - val_accuracy: 0.6381\n",
      "Epoch 25/40\n",
      "20/20 [==============================] - 0s 3ms/step - loss: 0.5905 - accuracy: 0.6998 - val_loss: 0.6427 - val_accuracy: 0.6381\n",
      "Epoch 26/40\n",
      "20/20 [==============================] - 0s 4ms/step - loss: 0.5904 - accuracy: 0.6966 - val_loss: 0.6416 - val_accuracy: 0.6381\n",
      "Epoch 27/40\n",
      "20/20 [==============================] - 0s 5ms/step - loss: 0.5902 - accuracy: 0.6998 - val_loss: 0.6525 - val_accuracy: 0.6381\n",
      "Epoch 28/40\n",
      "20/20 [==============================] - 0s 3ms/step - loss: 0.5924 - accuracy: 0.6982 - val_loss: 0.6437 - val_accuracy: 0.6418\n",
      "Epoch 29/40\n",
      "20/20 [==============================] - 0s 4ms/step - loss: 0.5905 - accuracy: 0.6998 - val_loss: 0.6387 - val_accuracy: 0.6418\n",
      "Epoch 30/40\n",
      "20/20 [==============================] - 0s 4ms/step - loss: 0.5910 - accuracy: 0.7047 - val_loss: 0.6431 - val_accuracy: 0.6418\n",
      "Epoch 31/40\n",
      "20/20 [==============================] - 0s 4ms/step - loss: 0.5901 - accuracy: 0.6998 - val_loss: 0.6426 - val_accuracy: 0.6381\n",
      "Epoch 32/40\n",
      "20/20 [==============================] - 0s 4ms/step - loss: 0.5887 - accuracy: 0.7047 - val_loss: 0.6463 - val_accuracy: 0.6418\n",
      "Epoch 33/40\n",
      "20/20 [==============================] - 0s 4ms/step - loss: 0.5905 - accuracy: 0.7047 - val_loss: 0.6429 - val_accuracy: 0.6381\n",
      "Epoch 34/40\n",
      "20/20 [==============================] - 0s 4ms/step - loss: 0.5884 - accuracy: 0.6966 - val_loss: 0.6475 - val_accuracy: 0.6381\n",
      "Epoch 35/40\n",
      "20/20 [==============================] - 0s 6ms/step - loss: 0.5897 - accuracy: 0.7047 - val_loss: 0.6411 - val_accuracy: 0.6381\n",
      "Epoch 36/40\n",
      "20/20 [==============================] - 0s 6ms/step - loss: 0.5903 - accuracy: 0.7030 - val_loss: 0.6426 - val_accuracy: 0.6381\n",
      "Epoch 37/40\n",
      "20/20 [==============================] - 0s 6ms/step - loss: 0.5891 - accuracy: 0.7014 - val_loss: 0.6426 - val_accuracy: 0.6418\n",
      "Epoch 38/40\n",
      "20/20 [==============================] - 0s 7ms/step - loss: 0.5886 - accuracy: 0.7030 - val_loss: 0.6500 - val_accuracy: 0.6381\n",
      "Epoch 39/40\n",
      "20/20 [==============================] - 0s 6ms/step - loss: 0.5895 - accuracy: 0.7063 - val_loss: 0.6392 - val_accuracy: 0.6343\n",
      "Epoch 40/40\n",
      "20/20 [==============================] - 0s 5ms/step - loss: 0.5897 - accuracy: 0.6982 - val_loss: 0.6408 - val_accuracy: 0.6381\n"
     ]
    }
   ],
   "source": [
    "# Model Train\n",
    "history = model.fit(x=x_train, \n",
    "                    y=y_train, \n",
    "                    epochs = 40,\n",
    "                    validation_data = (x_test,y_test))"
   ]
  },
  {
   "cell_type": "code",
   "execution_count": 166,
   "id": "ba25efd0",
   "metadata": {},
   "outputs": [
    {
     "data": {
      "image/png": "[encoded data removed]",
      "text/plain": [
       "<Figure size 432x288 with 1 Axes>"
      ]
     },
     "metadata": {
      "needs_background": "light"
     },
     "output_type": "display_data"
    }
   ],
   "source": [
    "history = model.history.history\n",
    "train_loss = history[\"loss\"]\n",
    "val_loss = history[\"val_loss\"]\n",
    "\n",
    "plt.plot(train_loss)\n",
    "plt.plot(val_loss)\n",
    "#plt.ylim(0,1)\n",
    "plt.legend([\"Train\", \"Validation\"])\n",
    "plt.xlabel(\"Iterations\")\n",
    "plt.ylabel(\"Loss\")\n",
    "plt.title(\"Loss Curve\")\n",
    "plt.grid()\n",
    "plt.show()"
   ]
  },
  {
   "cell_type": "code",
   "execution_count": 165,
   "id": "5b98375b",
   "metadata": {
    "scrolled": true
   },
   "outputs": [
    {
     "data": {
      "image/png": "[encoded data removed]",
      "text/plain": [
       "<Figure size 432x288 with 1 Axes>"
      ]
     },
     "metadata": {
      "needs_background": "light"
     },
     "output_type": "display_data"
    }
   ],
   "source": [
    "train_acc = history[\"accuracy\"]\n",
    "val_acc = history[\"val_accuracy\"]\n",
    "\n",
    "plt.plot(train_acc)\n",
    "plt.plot(val_acc)\n",
    "#plt.ylim(0,1)\n",
    "plt.legend([\"Train\", \"Validation\"])\n",
    "plt.xlabel(\"Iterations\")\n",
    "plt.ylabel(\"Accuracy\")\n",
    "plt.title(\"Accuracy Curve\")\n",
    "plt.grid()\n",
    "plt.show()"
   ]
  },
  {
   "cell_type": "code",
   "execution_count": null,
   "id": "f20a66e6",
   "metadata": {},
   "outputs": [],
   "source": []
  },
  {
   "cell_type": "code",
   "execution_count": null,
   "id": "add6277f",
   "metadata": {},
   "outputs": [],
   "source": []
  }
 ],
 "metadata": {
  "kernelspec": {
   "display_name": "Python 3 (ipykernel)",
   "language": "python",
   "name": "python3"
  },
  "language_info": {
   "codemirror_mode": {
    "name": "ipython",
    "version": 3
   },
   "file_extension": ".py",
   "mimetype": "text/x-python",
   "name": "python",
   "nbconvert_exporter": "python",
   "pygments_lexer": "ipython3",
   "version": "3.9.13"
  }
 },
 "nbformat": 4,
 "nbformat_minor": 5
}
